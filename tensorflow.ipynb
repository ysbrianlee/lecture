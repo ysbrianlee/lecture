{
 "cells": [
  {
   "cell_type": "markdown",
   "metadata": {},
   "source": [
    "# Tensorflow\n",
    " - 가장 널리 쓰이는 딥러닝 프레임워크 중의 하나\n",
    " - 구글이 주도적으로 개발하는 플랫폼\n",
    " - 파이썬, C++API를 기본으로 제공\n",
    "   - JavaScript, Java, Go, Swift 등 다양한 프로그래밍 언어를 지원\n",
    " - tf.keras를 중심으로 고수준 API 통합(2.x버전)\n",
    " - TPU(Tensor Progressing Unit)지원\n",
    "   - TPU는 GPU보다 전력을 적게 소모, 경제적\n",
    "   - 일반적으로 32비트(float32)로 수해되는 곱셈연산을 16비트로 낮춤  "
   ]
  },
  {
   "cell_type": "markdown",
   "metadata": {},
   "source": [
    "# 텐서플로우 아키텍처"
   ]
  },
  {
   "cell_type": "markdown",
   "metadata": {},
   "source": [
    "- Tensorflow Estimator\n",
    "- tf.layers, tf.losses, tf.metrics\n",
    "- Python Tensorflow\n",
    "- C++ Tensorflow\n",
    "- CPU\n",
    "  - https://developers.google.com/machine-learning/crash-course/first-steps-with-tensorflow/toolkit"
   ]
  },
  {
   "cell_type": "markdown",
   "metadata": {},
   "source": [
    "# 텐서플로우 시작하기"
   ]
  },
  {
   "cell_type": "code",
   "execution_count": 3,
   "metadata": {},
   "outputs": [],
   "source": [
    "import numpy as np\n",
    "import tensorflow as tf"
   ]
  },
  {
   "cell_type": "code",
   "execution_count": 6,
   "metadata": {},
   "outputs": [
    {
     "name": "stdout",
     "output_type": "stream",
     "text": [
      "2.7.0\n"
     ]
    }
   ],
   "source": [
    "print(tf.__version__)"
   ]
  },
  {
   "cell_type": "markdown",
   "metadata": {},
   "source": [
    "# 텐서(Tensor)의 객체\n",
    "  - 타입(Type) : string, float32, float16, int32, int8 등\n",
    "  - 형상(Shape) : 0, 1, 2차원 등의 데이터 차원\n",
    "  - 축(Rank) : 차원의 개수"
   ]
  },
  {
   "cell_type": "markdown",
   "metadata": {},
   "source": [
    "# 텐서의 차원과 연산"
   ]
  },
  {
   "cell_type": "code",
   "execution_count": null,
   "metadata": {},
   "outputs": [],
   "source": []
  }
 ],
 "metadata": {
  "interpreter": {
   "hash": "ad2bdc8ecc057115af97d19610ffacc2b4e99fae6737bb82f5d7fb13d2f2c186"
  },
  "kernelspec": {
   "display_name": "Python 3.8.8 ('base')",
   "language": "python",
   "name": "python3"
  },
  "language_info": {
   "codemirror_mode": {
    "name": "ipython",
    "version": 3
   },
   "file_extension": ".py",
   "mimetype": "text/x-python",
   "name": "python",
   "nbconvert_exporter": "python",
   "pygments_lexer": "ipython3",
   "version": "3.8.8"
  },
  "orig_nbformat": 4
 },
 "nbformat": 4,
 "nbformat_minor": 2
}
