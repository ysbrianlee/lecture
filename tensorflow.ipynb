{
 "cells": [
  {
   "cell_type": "markdown",
   "metadata": {},
   "source": [
    "# Tensorflow\n",
    " - 가장 널리 쓰이는 딥러닝 프레임워크 중의 하나\n",
    " - 구글이 주도적으로 개발하는 플랫폼\n",
    " - 파이썬, C++API를 기본으로 제공\n",
    "   - JavaScript, Java, Go, Swift 등 다양한 프로그래밍 언어를 지원\n",
    " - tf.keras를 중심으로 고수준 API 통합(2.x버전)\n",
    " - TPU(Tensor Progressing Unit)지원\n",
    "   - TPU는 GPU보다 전력을 적게 소모, 경제적\n",
    "   - 일반적으로 32비트(float32)로 수해되는 곱셈연산을 16비트로 낮춤  "
   ]
  },
  {
   "cell_type": "markdown",
   "metadata": {},
   "source": [
    "# 텐서플로우 아키텍처"
   ]
  },
  {
   "cell_type": "markdown",
   "metadata": {},
   "source": [
    "- Tensorflow Estimator\n",
    "- tf.layers, tf.losses, tf.metrics\n",
    "- Python Tensorflow\n",
    "- C++ Tensorflow\n",
    "- CPU\n",
    "  - https://developers.google.com/machine-learning/crash-course/first-steps-with-tensorflow/toolkit"
   ]
  },
  {
   "cell_type": "markdown",
   "metadata": {},
   "source": [
    "# 텐서플로우 시작하기"
   ]
  },
  {
   "cell_type": "code",
   "execution_count": 1,
   "metadata": {},
   "outputs": [],
   "source": [
    "import numpy as np\n",
    "import tensorflow as tf"
   ]
  },
  {
   "cell_type": "code",
   "execution_count": 4,
   "metadata": {},
   "outputs": [
    {
     "name": "stdout",
     "output_type": "stream",
     "text": [
      "2.9.1\n"
     ]
    }
   ],
   "source": [
    "print(tf.__version__)"
   ]
  },
  {
   "cell_type": "markdown",
   "metadata": {},
   "source": [
    "# 텐서(Tensor)의 객체\n",
    "  - 타입(Type) : string, float32, float16, int32, int8 등\n",
    "  - 형상(Shape) : 0, 1, 2차원 등의 데이터 차원\n",
    "  - 축(Rank) : 차원의 개수"
   ]
  },
  {
   "cell_type": "markdown",
   "metadata": {},
   "source": [
    "# 텐서의 차원과 연산"
   ]
  },
  {
   "cell_type": "code",
   "execution_count": 5,
   "metadata": {},
   "outputs": [
    {
     "name": "stdout",
     "output_type": "stream",
     "text": [
      "tf.Tensor(0, shape=(), dtype=int32)\n",
      "tf.Tensor(2, shape=(), dtype=int32)\n"
     ]
    }
   ],
   "source": [
    "a = tf.constant(2)\n",
    "print(tf.rank(a))  # rank 차원\n",
    "print(a)"
   ]
  },
  {
   "cell_type": "code",
   "execution_count": 6,
   "metadata": {},
   "outputs": [
    {
     "name": "stdout",
     "output_type": "stream",
     "text": [
      "tf.Tensor(1, shape=(), dtype=int32)\n",
      "tf.Tensor([2 3], shape=(2,), dtype=int32)\n"
     ]
    }
   ],
   "source": [
    "b = tf. constant([2,3])\n",
    "print(tf.rank(b))\n",
    "print(b)"
   ]
  },
  {
   "cell_type": "code",
   "execution_count": 7,
   "metadata": {},
   "outputs": [
    {
     "name": "stdout",
     "output_type": "stream",
     "text": [
      "tf.Tensor(2, shape=(), dtype=int32)\n",
      "tf.Tensor(\n",
      "[[2 3]\n",
      " [6 7]], shape=(2, 2), dtype=int32)\n"
     ]
    }
   ],
   "source": [
    "c = tf.constant([[2,3],[6,7]])\n",
    "print(tf.rank(c))\n",
    "print(c)"
   ]
  },
  {
   "cell_type": "code",
   "execution_count": 8,
   "metadata": {},
   "outputs": [
    {
     "name": "stdout",
     "output_type": "stream",
     "text": [
      "tf.Tensor(1, shape=(), dtype=int32)\n",
      "tf.Tensor([b'Hello'], shape=(1,), dtype=string)\n"
     ]
    }
   ],
   "source": [
    "d = tf.constant(['Hello'])\n",
    "print(tf.rank(d))\n",
    "print(d)"
   ]
  },
  {
   "cell_type": "markdown",
   "metadata": {},
   "source": [
    "### 난수생성"
   ]
  },
  {
   "cell_type": "code",
   "execution_count": 9,
   "metadata": {},
   "outputs": [
    {
     "name": "stdout",
     "output_type": "stream",
     "text": [
      "(1,)\n",
      "tf.Tensor([0.75917494], shape=(1,), dtype=float32)\n"
     ]
    }
   ],
   "source": [
    "rand = tf. random.uniform([1], 0, 1)\n",
    "print(rand.shape)\n",
    "print(rand)"
   ]
  },
  {
   "cell_type": "code",
   "execution_count": 10,
   "metadata": {},
   "outputs": [
    {
     "name": "stdout",
     "output_type": "stream",
     "text": [
      "(1, 2)\n",
      "tf.Tensor([[-1.9817165  0.5106471]], shape=(1, 2), dtype=float32)\n"
     ]
    }
   ],
   "source": [
    "rand2 = tf.random.normal([1,2], 0, 1)\n",
    "print(rand2.shape)\n",
    "print(rand2)"
   ]
  },
  {
   "cell_type": "code",
   "execution_count": 11,
   "metadata": {},
   "outputs": [
    {
     "name": "stdout",
     "output_type": "stream",
     "text": [
      "(3, 2)\n",
      "tf.Tensor(\n",
      "[[-1.327942   -1.6619549 ]\n",
      " [-0.8119339   1.3867704 ]\n",
      " [-1.3572139   0.11489814]], shape=(3, 2), dtype=float32)\n"
     ]
    }
   ],
   "source": [
    "rand3 = tf.random.normal(shape=(3,2), mean=0, stddev=1)\n",
    "print(rand3.shape)\n",
    "print(rand3)"
   ]
  },
  {
   "cell_type": "markdown",
   "metadata": {},
   "source": [
    "## 즉시 실행모드(Eager Mode) 지원\n",
    " - 즉시 실행모드를 통해 텐서플로우를 파이썬처럼 사용할 수 있음\n",
    " - 1.x 버전에서는 '그래프'를 생성하고, 초기화한 뒤에 세션을 통해 값을 흐르게 하는 작업을 진행해야 함"
   ]
  },
  {
   "cell_type": "code",
   "execution_count": 12,
   "metadata": {},
   "outputs": [],
   "source": [
    "a = tf.constant(3)\n",
    "b = tf.constant(2)"
   ]
  },
  {
   "cell_type": "code",
   "execution_count": 13,
   "metadata": {},
   "outputs": [
    {
     "name": "stdout",
     "output_type": "stream",
     "text": [
      "tf.Tensor(5, shape=(), dtype=int32)\n",
      "tf.Tensor(5, shape=(), dtype=int32)\n"
     ]
    }
   ],
   "source": [
    "print(tf.add(a,b))\n",
    "print(a + b)"
   ]
  },
  {
   "cell_type": "code",
   "execution_count": 14,
   "metadata": {},
   "outputs": [
    {
     "name": "stdout",
     "output_type": "stream",
     "text": [
      "tf.Tensor(1, shape=(), dtype=int32)\n",
      "tf.Tensor(1, shape=(), dtype=int32)\n"
     ]
    }
   ],
   "source": [
    "print(tf.subtract(a, b))\n",
    "print(a - b)"
   ]
  },
  {
   "cell_type": "code",
   "execution_count": 15,
   "metadata": {},
   "outputs": [
    {
     "name": "stdout",
     "output_type": "stream",
     "text": [
      "tf.Tensor(6, shape=(), dtype=int32)\n",
      "tf.Tensor(6, shape=(), dtype=int32)\n"
     ]
    }
   ],
   "source": [
    "print(tf.multiply(a, b))\n",
    "print( a * b)"
   ]
  },
  {
   "cell_type": "markdown",
   "metadata": {},
   "source": [
    "### 텐서플로우 : 넘파이 \n",
    "- numpy()\n",
    "- tf.convet_to_tensor()"
   ]
  },
  {
   "cell_type": "code",
   "execution_count": 16,
   "metadata": {},
   "outputs": [
    {
     "name": "stdout",
     "output_type": "stream",
     "text": [
      "<class 'numpy.int32'>\n"
     ]
    }
   ],
   "source": [
    "c = tf.add(a, b).numpy()\n",
    "print(type(c))"
   ]
  },
  {
   "cell_type": "code",
   "execution_count": 17,
   "metadata": {},
   "outputs": [
    {
     "name": "stdout",
     "output_type": "stream",
     "text": [
      "25.0\n",
      "tf.Tensor(25.0, shape=(), dtype=float32)\n"
     ]
    }
   ],
   "source": [
    "c_square = np.square(c, dtype=np.float32)\n",
    "c_tensor = tf.convert_to_tensor(c_square)\n",
    "\n",
    "print(c_square)\n",
    "print(c_tensor)"
   ]
  },
  {
   "cell_type": "markdown",
   "metadata": {},
   "source": [
    "### 넘파이 사용하기"
   ]
  },
  {
   "cell_type": "code",
   "execution_count": 18,
   "metadata": {},
   "outputs": [
    {
     "name": "stdout",
     "output_type": "stream",
     "text": [
      "(2, 3)\n",
      "<dtype: 'int32'>\n"
     ]
    }
   ],
   "source": [
    "t = tf.constant([[1,2,3], [4,5,6]])\n",
    "\n",
    "print(t.shape)\n",
    "print(t.dtype)"
   ]
  },
  {
   "cell_type": "code",
   "execution_count": 19,
   "metadata": {},
   "outputs": [
    {
     "name": "stdout",
     "output_type": "stream",
     "text": [
      "tf.Tensor(\n",
      "[[2 3]\n",
      " [5 6]], shape=(2, 2), dtype=int32)\n"
     ]
    }
   ],
   "source": [
    "print(t[:, 1:])   # 슬라이싱"
   ]
  },
  {
   "cell_type": "code",
   "execution_count": 20,
   "metadata": {},
   "outputs": [
    {
     "data": {
      "text/plain": [
       "<tf.Tensor: shape=(2, 1), dtype=int32, numpy=\n",
       "array([[2],\n",
       "       [5]])>"
      ]
     },
     "execution_count": 20,
     "metadata": {},
     "output_type": "execute_result"
    }
   ],
   "source": [
    "t[..., 1, tf.newaxis]"
   ]
  },
  {
   "cell_type": "code",
   "execution_count": 21,
   "metadata": {},
   "outputs": [
    {
     "data": {
      "text/plain": [
       "<tf.Tensor: shape=(2, 3), dtype=int32, numpy=\n",
       "array([[11, 12, 13],\n",
       "       [14, 15, 16]])>"
      ]
     },
     "execution_count": 21,
     "metadata": {},
     "output_type": "execute_result"
    }
   ],
   "source": [
    "t + 10"
   ]
  },
  {
   "cell_type": "code",
   "execution_count": 22,
   "metadata": {},
   "outputs": [
    {
     "data": {
      "text/plain": [
       "<tf.Tensor: shape=(2, 3), dtype=int32, numpy=\n",
       "array([[ 1,  4,  9],\n",
       "       [16, 25, 36]])>"
      ]
     },
     "execution_count": 22,
     "metadata": {},
     "output_type": "execute_result"
    }
   ],
   "source": [
    "tf.square(t)"
   ]
  },
  {
   "cell_type": "code",
   "execution_count": 23,
   "metadata": {},
   "outputs": [
    {
     "data": {
      "text/plain": [
       "<tf.Tensor: shape=(2, 2), dtype=int32, numpy=\n",
       "array([[14, 32],\n",
       "       [32, 77]])>"
      ]
     },
     "execution_count": 23,
     "metadata": {},
     "output_type": "execute_result"
    }
   ],
   "source": [
    "t @ tf.transpose(t)"
   ]
  },
  {
   "cell_type": "markdown",
   "metadata": {},
   "source": [
    "## 타입변환\n",
    " - 텐서의 기본dtype\n",
    "   - float형 텐서 : float32\n",
    "   - int형 텐서 : int32\n",
    " - 연산시 텐서의 타입을 맞워야 함\n",
    "   - float32 ~ float32\n",
    "   - int32 ~ int32\n",
    "   - float32 ~ int32(x)\n",
    "\n",
    "   - 타입변환에는 tf.cast() 사용"
   ]
  },
  {
   "cell_type": "code",
   "execution_count": 24,
   "metadata": {},
   "outputs": [
    {
     "name": "stdout",
     "output_type": "stream",
     "text": [
      "tf.Tensor(2, shape=(), dtype=int32)\n",
      "tf.Tensor(2.0, shape=(), dtype=float32)\n"
     ]
    }
   ],
   "source": [
    "a = tf.constant(2)\n",
    "print(a)\n",
    "\n",
    "b = tf.constant(2.)\n",
    "print(b)"
   ]
  },
  {
   "cell_type": "code",
   "execution_count": 25,
   "metadata": {},
   "outputs": [],
   "source": [
    "# dtype이 다른 두 변수의 합은 에러 : dtype를 맞춰줘야 에러가 나지 않음\n",
    "#tf.constant(2.) + tf.constant(40)"
   ]
  },
  {
   "cell_type": "code",
   "execution_count": 26,
   "metadata": {},
   "outputs": [],
   "source": [
    "# dtype이 같다고 하다라도 bit type이 다르면 마찬가지로 에러가 남\n",
    "#tf.constant(2.) + tf.constant(30., dtype=tf.float64)"
   ]
  },
  {
   "cell_type": "code",
   "execution_count": 27,
   "metadata": {},
   "outputs": [
    {
     "name": "stdout",
     "output_type": "stream",
     "text": [
      "tf.Tensor(34.0, shape=(), dtype=float32)\n"
     ]
    }
   ],
   "source": [
    "t = tf.constant(30., dtype=tf.float64)\n",
    "t2 = tf.constant(4.)\n",
    "\n",
    "#print(t2 + t)\n",
    "print(t2 + tf.cast(t, tf.float32))"
   ]
  },
  {
   "cell_type": "markdown",
   "metadata": {},
   "source": [
    "## AutoGraph(오토그래프)\n",
    " - Tensorflow가 작업을 좀 더 빠르게 동작하기 위한 방법으로 Graph로 만들어 연산을 진행\n",
    " - tf.Graph\n",
    " - 유연성이 있음\n",
    "   - 모바일 애플리케이션, 임베디드 기기, 백엔드 서버와 같이 Python 인터프리터가 없는 환경에서 Tensorflow사용 가능"
   ]
  },
  {
   "cell_type": "code",
   "execution_count": 28,
   "metadata": {},
   "outputs": [],
   "source": [
    "import timeit"
   ]
  },
  {
   "cell_type": "markdown",
   "metadata": {},
   "source": [
    "## @tf.function\n",
    " - 자동으로 그래프를 생성(Auto Graph)\n",
    " - 그래프로 변환하여 사용 : GPU 연산가능\n",
    " - 파이썬으로 구성된 함수를 텐서플로우의 그래프 형태로 다루고 싶을 때 사용가능\n",
    " - 원본 함수가 필요하다면 (tf.function).python_function()"
   ]
  },
  {
   "cell_type": "code",
   "execution_count": 29,
   "metadata": {},
   "outputs": [
    {
     "name": "stdout",
     "output_type": "stream",
     "text": [
      "tf.Tensor(-13, shape=(), dtype=int32)\n",
      "tf.Tensor(-13, shape=(), dtype=int32)\n"
     ]
    }
   ],
   "source": [
    "@tf.function\n",
    "def my_function(x):\n",
    "    return x**2 - 10*x + 3\n",
    "\n",
    "print(my_function(2))\n",
    "print(my_function(tf.constant(2)))"
   ]
  },
  {
   "cell_type": "code",
   "execution_count": 30,
   "metadata": {},
   "outputs": [
    {
     "name": "stdout",
     "output_type": "stream",
     "text": [
      "-13\n",
      "tf.Tensor(-13, shape=(), dtype=int32)\n"
     ]
    }
   ],
   "source": [
    "def my_function_(x):\n",
    "    return x**2 - 10*x + 3\n",
    "\n",
    "print(my_function_(2))\n",
    "print(my_function_(tf.constant(2)))"
   ]
  },
  {
   "cell_type": "code",
   "execution_count": 31,
   "metadata": {},
   "outputs": [
    {
     "name": "stdout",
     "output_type": "stream",
     "text": [
      "<tensorflow.python.eager.def_function.Function object at 0x000001797AEDDC40>\n",
      "tf.Tensor(-13, shape=(), dtype=int32)\n"
     ]
    }
   ],
   "source": [
    "tf_my_func = tf.function(my_function_)\n",
    "\n",
    "print(tf_my_func)\n",
    "print(tf_my_func(2))"
   ]
  },
  {
   "cell_type": "code",
   "execution_count": 32,
   "metadata": {},
   "outputs": [
    {
     "data": {
      "text/plain": [
       "-13"
      ]
     },
     "execution_count": 32,
     "metadata": {},
     "output_type": "execute_result"
    }
   ],
   "source": [
    "tf_my_func.python_function(2)"
   ]
  },
  {
   "cell_type": "code",
   "execution_count": 33,
   "metadata": {},
   "outputs": [
    {
     "data": {
      "text/plain": [
       "array([[12.]], dtype=float32)"
      ]
     },
     "execution_count": 33,
     "metadata": {},
     "output_type": "execute_result"
    }
   ],
   "source": [
    "def function_to_get_faster(x, y, b):\n",
    "    x = tf.matmul(x, y)\n",
    "    x = x + b\n",
    "    return x\n",
    "\n",
    "a_function_that_a_graph = tf.function(function_to_get_faster)\n",
    "\n",
    "x1 = tf.constant([[1.0, 2.0]])\n",
    "y1 = tf.constant([[2.0], [3.0]])\n",
    "b1 = tf.constant(4.0)\n",
    "\n",
    "a_function_that_a_graph(x1, y1, b1).numpy()"
   ]
  },
  {
   "cell_type": "code",
   "execution_count": 34,
   "metadata": {},
   "outputs": [
    {
     "data": {
      "text/plain": [
       "array([[12.]], dtype=float32)"
      ]
     },
     "execution_count": 34,
     "metadata": {},
     "output_type": "execute_result"
    }
   ],
   "source": [
    "def inner_function(x, y, b):\n",
    "    x = tf.matmul(x, y)\n",
    "    x = x + b\n",
    "    return x\n",
    "\n",
    "@tf.function\n",
    "def outer_function(x):\n",
    "    y = tf.constant([[2.0], [3.0]])\n",
    "    b = tf.constant(4.0)\n",
    "    return inner_function(x, y, b)\n",
    "\n",
    "outer_function(tf.constant([[1.0, 2.0]])).numpy()"
   ]
  },
  {
   "cell_type": "code",
   "execution_count": 35,
   "metadata": {},
   "outputs": [
    {
     "name": "stdout",
     "output_type": "stream",
     "text": [
      "def tf__my_function(x):\n",
      "    with ag__.FunctionScope('my_function', 'fscope', ag__.ConversionOptions(recursive=True, user_requested=True, optional_features=(), internal_convert_user_code=True)) as fscope:\n",
      "        do_return = False\n",
      "        retval_ = ag__.UndefinedReturnValue()\n",
      "        try:\n",
      "            do_return = True\n",
      "            retval_ = (((ag__.ld(x) ** 2) - (10 * ag__.ld(x))) + 3)\n",
      "        except:\n",
      "            do_return = False\n",
      "            raise\n",
      "        return fscope.ret(retval_, do_return)\n",
      "\n",
      "def tf__my_function_(x):\n",
      "    with ag__.FunctionScope('my_function_', 'fscope', ag__.ConversionOptions(recursive=True, user_requested=True, optional_features=(), internal_convert_user_code=True)) as fscope:\n",
      "        do_return = False\n",
      "        retval_ = ag__.UndefinedReturnValue()\n",
      "        try:\n",
      "            do_return = True\n",
      "            retval_ = (((ag__.ld(x) ** 2) - (10 * ag__.ld(x))) + 3)\n",
      "        except:\n",
      "            do_return = False\n",
      "            raise\n",
      "        return fscope.ret(retval_, do_return)\n",
      "\n",
      "def tf__outer_function(x):\n",
      "    with ag__.FunctionScope('outer_function', 'fscope', ag__.ConversionOptions(recursive=True, user_requested=True, optional_features=(), internal_convert_user_code=True)) as fscope:\n",
      "        do_return = False\n",
      "        retval_ = ag__.UndefinedReturnValue()\n",
      "        y = ag__.converted_call(ag__.ld(tf).constant, ([[2.0], [3.0]],), None, fscope)\n",
      "        b = ag__.converted_call(ag__.ld(tf).constant, (4.0,), None, fscope)\n",
      "        try:\n",
      "            do_return = True\n",
      "            retval_ = ag__.converted_call(ag__.ld(inner_function), (ag__.ld(x), ag__.ld(y), ag__.ld(b)), None, fscope)\n",
      "        except:\n",
      "            do_return = False\n",
      "            raise\n",
      "        return fscope.ret(retval_, do_return)\n",
      "\n"
     ]
    }
   ],
   "source": [
    "print(tf.autograph.to_code(my_function.python_function))\n",
    "print(tf.autograph.to_code(tf_my_func.python_function))\n",
    "print(tf.autograph.to_code(outer_function.python_function))"
   ]
  },
  {
   "cell_type": "markdown",
   "metadata": {},
   "source": [
    "### 속도향상"
   ]
  },
  {
   "cell_type": "code",
   "execution_count": 36,
   "metadata": {},
   "outputs": [
    {
     "name": "stdout",
     "output_type": "stream",
     "text": [
      "Eager time 13.499507999999992\n",
      "Graph time 7.188730000000078\n"
     ]
    }
   ],
   "source": [
    "class SequentialModel(tf.keras.Model):\n",
    "    def __init__(self, **kwargs):\n",
    "        super(SequentialModel, self).__init__(**kwargs)\n",
    "        self.flatten =tf.keras.layers.Flatten(input_shape=(28,28))\n",
    "        self.dense_1 = tf.keras.layers.Dense(128, activation='relu')\n",
    "        self.dropout = tf.keras.layers.Dropout(0.2)\n",
    "        self.dense_2 = tf.keras.layers.Dense(10)\n",
    "        \n",
    "    def call(self, x):\n",
    "        x = self.flatten(x)\n",
    "        x = self.dense_1(x)\n",
    "        x = self.dropout(x)\n",
    "        x = self.dense_2(x)\n",
    "        return x\n",
    "\n",
    "input_data = tf.random.uniform([60, 28, 28])\n",
    "\n",
    "eager_model = SequentialModel()\n",
    "graph_model = tf.function(eager_model) \n",
    "    \n",
    "print(\"Eager time\", timeit.timeit(lambda: eager_model(input_data), number=10000))\n",
    "print(\"Graph time\", timeit.timeit(lambda: graph_model(input_data), number=10000))"
   ]
  },
  {
   "cell_type": "markdown",
   "metadata": {},
   "source": [
    "### 변수생성\n",
    "- tf.Variable\n",
    "- 딥러닝 모델 학습 시, 그래프 연산이 필요할 때 사요"
   ]
  },
  {
   "cell_type": "code",
   "execution_count": 37,
   "metadata": {},
   "outputs": [
    {
     "name": "stdout",
     "output_type": "stream",
     "text": [
      "<tf.Variable 'Variable:0' shape=() dtype=float32, numpy=20.0>\n"
     ]
    }
   ],
   "source": [
    "X = tf.Variable(20.0)\n",
    "\n",
    "print(X)"
   ]
  },
  {
   "cell_type": "markdown",
   "metadata": {},
   "source": [
    "### Autograd(자동미분)\n",
    "- tf.GradientTape API를 사용\n",
    "- tf.Vatiable 같은 일부 입력에 대한 기울기 계산\n",
    "  - 기본적으로 한번만 사용됨\n",
    "- 변수가 포함된 연산만 기록"
   ]
  },
  {
   "cell_type": "code",
   "execution_count": 38,
   "metadata": {},
   "outputs": [],
   "source": [
    "x = tf.Variable(3.0)\n",
    "\n",
    "with tf.GradientTape() as tape:\n",
    "    y = x**2\n"
   ]
  },
  {
   "cell_type": "code",
   "execution_count": 39,
   "metadata": {},
   "outputs": [
    {
     "data": {
      "text/plain": [
       "6.0"
      ]
     },
     "execution_count": 39,
     "metadata": {},
     "output_type": "execute_result"
    }
   ],
   "source": [
    "dy_dx = tape.gradient(y, x)\n",
    "dy_dx.numpy()"
   ]
  },
  {
   "cell_type": "code",
   "execution_count": 40,
   "metadata": {},
   "outputs": [],
   "source": [
    "# 한번만 사용되기 때문에 에러가 발생 \n",
    "#x2 = tf.Variable(4)\n",
    "#dy_dx = tape.gradient(y, x2)\n",
    "#dy_dx.numpy()"
   ]
  },
  {
   "cell_type": "code",
   "execution_count": 41,
   "metadata": {},
   "outputs": [
    {
     "name": "stdout",
     "output_type": "stream",
     "text": [
      "dz/dx tf.Tensor(4.0, shape=(), dtype=float32)\n",
      "dz/dy None\n"
     ]
    }
   ],
   "source": [
    "x = tf.Variable(2.0)\n",
    "y = tf.Variable(3.0)\n",
    "\n",
    "with tf.GradientTape() as tape:\n",
    "    y_sq = y**2\n",
    "    z = x**2 + tf.stop_gradient(y_sq)\n",
    "    \n",
    "grad = tape.gradient(z, {'x':x, 'y':y})\n",
    "\n",
    "print('dz/dx', grad['x'])\n",
    "print('dz/dy', grad['y'])"
   ]
  },
  {
   "cell_type": "code",
   "execution_count": 42,
   "metadata": {},
   "outputs": [],
   "source": [
    "weights = tf.Variable(tf.random.normal((3,2)), name='weights')\n",
    "biases = tf.Variable(tf.zeros(2, dtype=tf.float32), name='biases')\n",
    "x = [[1., 2., 3.]]\n",
    "\n",
    "with tf.GradientTape(persistent=True) as tape:\n",
    "    y = x @ weights + biases\n",
    "    loss = tf.reduce_mean(y**2)"
   ]
  },
  {
   "cell_type": "code",
   "execution_count": 43,
   "metadata": {},
   "outputs": [],
   "source": [
    "[dl_dw, dl_db] = tape.gradient(loss, [weights, biases])"
   ]
  },
  {
   "cell_type": "code",
   "execution_count": 44,
   "metadata": {},
   "outputs": [
    {
     "name": "stdout",
     "output_type": "stream",
     "text": [
      "(3, 2)\n",
      "(3, 2)\n"
     ]
    }
   ],
   "source": [
    "print(weights.shape)\n",
    "print(dl_dw.shape)"
   ]
  },
  {
   "cell_type": "code",
   "execution_count": 46,
   "metadata": {},
   "outputs": [
    {
     "name": "stdout",
     "output_type": "stream",
     "text": [
      "(3, 2)\n",
      "(3, 2)\n"
     ]
    }
   ],
   "source": [
    "weights2 = tf.Variable(tf.random.normal((3, 2)), name='weights')\n",
    "biases2 = tf.Variable(tf.zeros(2, dtype=tf.float32), name='biases')\n",
    "x2 = [[4., 5., 6.]]\n",
    "\n",
    "[dl_dw2, dl_db2] = tape.gradient(loss, [weights2, biases2])\n",
    "\n",
    "print(weights2.shape)\n",
    "print(dl_dw.shape)\n",
    "\n"
   ]
  },
  {
   "cell_type": "code",
   "execution_count": 47,
   "metadata": {},
   "outputs": [],
   "source": [
    "del tape"
   ]
  },
  {
   "cell_type": "markdown",
   "metadata": {},
   "source": [
    "# 간단한 신경망 구조\n",
    "- 입력 >> 연산 >> 활성화함수 >> 출력"
   ]
  },
  {
   "cell_type": "code",
   "execution_count": 48,
   "metadata": {},
   "outputs": [],
   "source": [
    "def sigmoid(x):\n",
    "    return (1/ (1 + np.exp(-x)))\n",
    "\n",
    "def Neuron(x, W, bias=0):\n",
    "    z = x * W + bias\n",
    "    return sigmoid(z)"
   ]
  },
  {
   "cell_type": "code",
   "execution_count": 52,
   "metadata": {},
   "outputs": [
    {
     "name": "stdout",
     "output_type": "stream",
     "text": [
      "x.shape: (1, 2)\n",
      "W.shape: (1, 2)\n",
      "tf.Tensor([[ 0.00614398 -0.75732297]], shape=(1, 2), dtype=float32)\n",
      "tf.Tensor([[1.0975406 0.9153598]], shape=(1, 2), dtype=float32)\n",
      "[[0.5016858  0.33331645]]\n"
     ]
    }
   ],
   "source": [
    "x = tf.random.normal((1,2), 0, 1)\n",
    "W = tf.random.normal((1,2), 0, 1)\n",
    "\n",
    "print('x.shape:', x.shape)\n",
    "print('W.shape:', W.shape)\n",
    "\n",
    "print(x)\n",
    "print(W)\n",
    "\n",
    "print(Neuron(x, W))"
   ]
  },
  {
   "cell_type": "code",
   "execution_count": 50,
   "metadata": {},
   "outputs": [
    {
     "name": "stdout",
     "output_type": "stream",
     "text": [
      "x.shape: (2, 1)\n",
      "W.shape: (2, 1)\n",
      "tf.Tensor(\n",
      "[[ 0.07487331]\n",
      " [-0.27893898]], shape=(2, 1), dtype=float32)\n",
      "tf.Tensor(\n",
      "[[-0.28507864]\n",
      " [-0.9143469 ]], shape=(2, 1), dtype=float32)\n",
      "[[0.49466398]\n",
      " [0.5634184 ]]\n"
     ]
    }
   ],
   "source": [
    "x = tf.random.normal((2,1), 0, 1)\n",
    "W = tf.random.normal((2,1), 0, 1)\n",
    "\n",
    "print('x.shape:', x.shape)\n",
    "print('W.shape:', W.shape)\n",
    "\n",
    "print(x)\n",
    "print(W)\n",
    "\n",
    "print(Neuron(x, W))"
   ]
  },
  {
   "cell_type": "code",
   "execution_count": 51,
   "metadata": {},
   "outputs": [
    {
     "name": "stdout",
     "output_type": "stream",
     "text": [
      "x.shape: (1,)\n",
      "W.shape: (2, 1)\n",
      "tf.Tensor([-0.48602444], shape=(1,), dtype=float32)\n",
      "tf.Tensor(\n",
      "[[0.13064502]\n",
      " [1.6884828 ]], shape=(2, 1), dtype=float32)\n",
      "[[0.48413113]\n",
      " [0.30562702]]\n"
     ]
    }
   ],
   "source": [
    "x = tf.random.normal((1,), 0, 1)\n",
    "W = tf.random.normal((2,1), 0, 1)\n",
    "\n",
    "print('x.shape:', x.shape)\n",
    "print('W.shape:', W.shape)\n",
    "\n",
    "print(x)\n",
    "print(W)\n",
    "\n",
    "print(Neuron(x, W))"
   ]
  },
  {
   "cell_type": "markdown",
   "metadata": {},
   "source": [
    "## 퍼셉트론 학습 알고리즘(자중치 업데이트)\n",
    " "
   ]
  },
  {
   "cell_type": "code",
   "execution_count": 53,
   "metadata": {},
   "outputs": [
    {
     "name": "stdout",
     "output_type": "stream",
     "text": [
      "[0.28861853]\n",
      "y: 0\n"
     ]
    }
   ],
   "source": [
    "x = 1\n",
    "y =0\n",
    "W = tf.random.normal([1], 0, 1)\n",
    "print(Neuron(x, W))\n",
    "print('y:', y)"
   ]
  },
  {
   "cell_type": "code",
   "execution_count": 55,
   "metadata": {},
   "outputs": [
    {
     "name": "stdout",
     "output_type": "stream",
     "text": [
      "100\t[-0.0468488]\t[0.0468488]\n",
      "200\t[-0.03228271]\t[0.03228271]\n",
      "300\t[-0.02456471]\t[0.02456471]\n",
      "400\t[-0.01980231]\t[0.01980231]\n",
      "500\t[-0.01657634]\t[0.01657634]\n",
      "600\t[-0.0142489]\t[0.0142489]\n",
      "700\t[-0.01249156]\t[0.01249156]\n",
      "800\t[-0.0111183]\t[0.0111183]\n",
      "900\t[-0.01001587]\t[0.01001587]\n",
      "1000\t[-0.00911154]\t[0.00911154]\n"
     ]
    }
   ],
   "source": [
    "for i in range(1000):\n",
    "    output = Neuron(x, W)\n",
    "    error = y- output\n",
    "    W = W + x * 0.1 * error\n",
    "    \n",
    "    if i % 100 == 99:\n",
    "        print(\"{}\\t{}\\t{}\".format(i+1, error, output))   "
   ]
  },
  {
   "cell_type": "code",
   "execution_count": 58,
   "metadata": {},
   "outputs": [],
   "source": [
    "def Neuron2(x, W, bias=0):\n",
    "    z = tf.matmul(x, W, transpose_b=True) + bias\n",
    "    return sigmoid(z)"
   ]
  },
  {
   "cell_type": "code",
   "execution_count": 59,
   "metadata": {},
   "outputs": [
    {
     "name": "stdout",
     "output_type": "stream",
     "text": [
      "[[0.8940314]]\n",
      "y: tf.Tensor([1.], shape=(1,), dtype=float32)\n"
     ]
    }
   ],
   "source": [
    "x = tf.random.normal([1, 3], 0, 1)\n",
    "y = tf.ones(1)\n",
    "W = tf.random.normal((1, 3), 0, 1)\n",
    "\n",
    "print(Neuron2(x, W))\n",
    "print(\"y:\", y)"
   ]
  },
  {
   "cell_type": "code",
   "execution_count": 61,
   "metadata": {},
   "outputs": [
    {
     "name": "stdout",
     "output_type": "stream",
     "text": [
      "100\t[[0.02516562]]\t[[0.9748344]]\n",
      "200\t[[0.01405507]]\t[[0.9859449]]\n",
      "300\t[[0.00973254]]\t[[0.99026746]]\n",
      "400\t[[0.00743872]]\t[[0.9925613]]\n",
      "500\t[[0.0060181]]\t[[0.9939819]]\n",
      "600\t[[0.00505233]]\t[[0.9949477]]\n",
      "700\t[[0.00435323]]\t[[0.9956468]]\n",
      "800\t[[0.00382376]]\t[[0.99617624]]\n",
      "900\t[[0.00340903]]\t[[0.996591]]\n",
      "1000\t[[0.00307542]]\t[[0.9969246]]\n"
     ]
    }
   ],
   "source": [
    "for i in range(1000):\n",
    "    output = Neuron2(x, W)\n",
    "    error = y - output\n",
    "    W = W + x * 0.1 * error\n",
    "\n",
    "    if i % 100 == 99:\n",
    "        print(\"{}\\t{}\\t{}\".format(i+1, error, output))    "
   ]
  },
  {
   "cell_type": "code",
   "execution_count": 62,
   "metadata": {},
   "outputs": [
    {
     "name": "stdout",
     "output_type": "stream",
     "text": [
      "x\t: [[ 0.563527  -1.7673904 -0.7127266]]\n",
      "weights\t: [[0.8151375  1.9417304  0.47891724]]\n",
      "bias\t: [[0.]]\n"
     ]
    }
   ],
   "source": [
    "x = tf.random.normal((1, 3), 0, 1)\n",
    "weights = tf.random.normal((1, 3), 0, 1)\n",
    "bias = tf.zeros((1, 1))\n",
    "\n",
    "y = tf.ones((1, ))\n",
    "\n",
    "print(\"x\\t: {}\\nweights\\t: {}\\nbias\\t: {}\".format(x, weights, bias))"
   ]
  },
  {
   "cell_type": "code",
   "execution_count": 63,
   "metadata": {},
   "outputs": [
    {
     "name": "stdout",
     "output_type": "stream",
     "text": [
      "100\t[[0.02277988]]\t[[0.9772201]]\n",
      "200\t[[0.01077408]]\t[[0.9892259]]\n",
      "300\t[[0.00704312]]\t[[0.9929569]]\n",
      "400\t[[0.00522882]]\t[[0.9947712]]\n",
      "500\t[[0.00415689]]\t[[0.9958431]]\n",
      "600\t[[0.0034492]]\t[[0.9965508]]\n",
      "700\t[[0.00294733]]\t[[0.99705267]]\n",
      "800\t[[0.00257283]]\t[[0.99742717]]\n",
      "900\t[[0.00228262]]\t[[0.9977174]]\n",
      "1000\t[[0.00205129]]\t[[0.9979487]]\n"
     ]
    }
   ],
   "source": [
    "for i in range(1000):\n",
    "    output = Neuron2(x, weights, bias=bias)\n",
    "    error = y - output\n",
    "    weights = weights + x * 0.1 * error\n",
    "    bias = bias + 1 * 0.1 * error\n",
    "    \n",
    "    if i % 100 == 99:\n",
    "        print(\"{}\\t{}\\t{}\".format(i+1, error, output))"
   ]
  },
  {
   "cell_type": "code",
   "execution_count": 64,
   "metadata": {},
   "outputs": [
    {
     "name": "stdout",
     "output_type": "stream",
     "text": [
      "x\t: [[ 0.563527  -1.7673904 -0.7127266]]\n",
      "weights\t: [[ 1.8970579 -1.4514948 -0.8894512]]\n",
      "bias\t: [[1.9199048]]\n"
     ]
    }
   ],
   "source": [
    "print(\"x\\t: {}\\nweights\\t: {}\\nbias\\t: {}\".format(x, weights, bias))"
   ]
  },
  {
   "cell_type": "markdown",
   "metadata": {},
   "source": [
    "## AND Gate"
   ]
  },
  {
   "cell_type": "code",
   "execution_count": 66,
   "metadata": {},
   "outputs": [
    {
     "name": "stdout",
     "output_type": "stream",
     "text": [
      "Epoch    1\tError sum0\n",
      "Epoch    1\tError sum0\n",
      "Epoch    1\tError sum0\n",
      "Epoch    1\tError sum0\n",
      "Epoch    1\tError sum0\n",
      "Epoch    1\tError sum0\n",
      "Epoch    1\tError sum0\n",
      "Epoch    1\tError sum0\n",
      "Epoch    1\tError sum0\n",
      "Epoch    1\tError sum0\n",
      "Epoch    1\tError sum0\n",
      "Epoch    1\tError sum0\n",
      "Epoch    1\tError sum0\n",
      "Epoch    1\tError sum0\n",
      "Epoch    1\tError sum0\n",
      "Epoch    1\tError sum0\n",
      "Epoch    1\tError sum0\n",
      "Epoch    1\tError sum0\n",
      "Epoch    1\tError sum0\n",
      "Epoch    1\tError sum0\n",
      "n\\가중치\t: [6.955626 6.958796]\n",
      "편향\t: [-11.612611]\n"
     ]
    }
   ],
   "source": [
    "X = np.array([[1, 1], [1, 0], [0, 1], [0, 0]])\n",
    "Y = np.array([[1], [0], [0], [0]])\n",
    "\n",
    "W = tf.random.normal([2], 0, 1)\n",
    "b = tf.random.normal([1], 0, 1)\n",
    "b_x = 1\n",
    "\n",
    "for i in range(2000):\n",
    "    error_sum = 0\n",
    "    \n",
    "    for j in range(4):\n",
    "        output = sigmoid(np.sum(X[j] * W) + b_x + b)\n",
    "        error = Y[j][0] - output\n",
    "        W = W + X[j] * 0.1 * error\n",
    "        b = b + b_x * 0.1 *error\n",
    "        \n",
    "    if i % 100 == 0:\n",
    "        print(\"Epoch {:4d}\\tError sum{}\".format(1, error_sum))\n",
    "        \n",
    "print(\"n\\가중치\\t: {}\".format(W))\n",
    "print(\"편향\\t: {}\".format(b))\n",
    "\n"
   ]
  },
  {
   "cell_type": "code",
   "execution_count": 72,
   "metadata": {},
   "outputs": [
    {
     "name": "stdout",
     "output_type": "stream",
     "text": [
      "X: [1 1] Y: [1] outputL [0.909027]\n",
      "X: [1 0] Y: [0] outputL [0.00940574]\n",
      "X: [0 1] Y: [0] outputL [0.00943532]\n",
      "X: [0 0] Y: [0] outputL [9.05114e-06]\n"
     ]
    }
   ],
   "source": [
    "for i in range(4):  \n",
    "    print(\"X: {} Y: {} outputL {}\".format(X[i], Y[i], sigmoid(np.sum(X[i] * W) + b)))"
   ]
  },
  {
   "cell_type": "markdown",
   "metadata": {},
   "source": [
    "## OR GTE"
   ]
  },
  {
   "cell_type": "code",
   "execution_count": 78,
   "metadata": {},
   "outputs": [
    {
     "name": "stdout",
     "output_type": "stream",
     "text": [
      "Epoch    1\tError sum0\n",
      "Epoch    1\tError sum0\n",
      "Epoch    1\tError sum0\n",
      "Epoch    1\tError sum0\n",
      "Epoch    1\tError sum0\n",
      "Epoch    1\tError sum0\n",
      "Epoch    1\tError sum0\n",
      "Epoch    1\tError sum0\n",
      "Epoch    1\tError sum0\n",
      "Epoch    1\tError sum0\n",
      "Epoch    1\tError sum0\n",
      "Epoch    1\tError sum0\n",
      "Epoch    1\tError sum0\n",
      "Epoch    1\tError sum0\n",
      "Epoch    1\tError sum0\n",
      "Epoch    1\tError sum0\n",
      "Epoch    1\tError sum0\n",
      "Epoch    1\tError sum0\n",
      "Epoch    1\tError sum0\n",
      "Epoch    1\tError sum0\n",
      "n\\가중치\t: [5.1282961e-02 1.1734664e-06]\n",
      "편향\t: [-1.0000018]\n"
     ]
    }
   ],
   "source": [
    "X3 = np.array([[1, 1], [1, 0], [0, 1], [0, 0]])\n",
    "Y3 = np.array([[0], [1], [1], [0]])\n",
    "W3 = tf.random.normal([2], 0, 1)\n",
    "b3 = tf.random.normal([1], 0, 1)\n",
    "b_x = 1\n",
    "\n",
    "for i in range(2000):\n",
    "    error_sum = 0\n",
    "    \n",
    "    for j in range(4):\n",
    "        output = sigmoid(np.sum(X3[j] * W3) + b_x + b3)\n",
    "        error = Y3[j][0] - output\n",
    "        W3 = W3 + X3[j] * 0.1 * error\n",
    "        b3 = b3 + b_x * 0.1 * error\n",
    "        \n",
    "    if i % 100 == 0:\n",
    "        print(\"Epoch {:4d}\\tError sum{}\".format(1, error_sum))\n",
    "        \n",
    "print(\"n\\가중치\\t: {}\".format(W3))\n",
    "print(\"편향\\t: {}\".format(b3))"
   ]
  },
  {
   "cell_type": "code",
   "execution_count": 79,
   "metadata": {},
   "outputs": [
    {
     "name": "stdout",
     "output_type": "stream",
     "text": [
      "X: [1 1] Y: [0] outputL [0.2791428]\n",
      "X: [1 0] Y: [1] outputL [0.27914253]\n",
      "X: [0 1] Y: [1] outputL [0.2689413]\n",
      "X: [0 0] Y: [0] outputL [0.26894107]\n"
     ]
    }
   ],
   "source": [
    "for i in range(4):  \n",
    "    print(\"X: {} Y: {} outputL {}\".format(X3[i], Y3[i], sigmoid(np.sum(X3[i] * W3) + b3)))"
   ]
  },
  {
   "cell_type": "code",
   "execution_count": 5,
   "metadata": {},
   "outputs": [
    {
     "name": "stdout",
     "output_type": "stream",
     "text": [
      "Model: \"sequential_1\"\n",
      "_________________________________________________________________\n",
      " Layer (type)                Output Shape              Param #   \n",
      "=================================================================\n",
      " dense_2 (Dense)             (None, 2)                 6         \n",
      "                                                                 \n",
      " dense_3 (Dense)             (None, 1)                 3         \n",
      "                                                                 \n",
      "=================================================================\n",
      "Total params: 9\n",
      "Trainable params: 9\n",
      "Non-trainable params: 0\n",
      "_________________________________________________________________\n"
     ]
    },
    {
     "name": "stderr",
     "output_type": "stream",
     "text": [
      "c:\\ProgramData\\Anaconda3\\lib\\site-packages\\keras\\optimizers\\optimizer_v2\\gradient_descent.py:108: UserWarning: The `lr` argument is deprecated, use `learning_rate` instead.\n",
      "  super(SGD, self).__init__(name, **kwargs)\n"
     ]
    }
   ],
   "source": [
    "from tensorflow.keras import Sequential\n",
    "from tensorflow.keras.layers import Dense\n",
    "\n",
    "np.random.seed(111)\n",
    "\n",
    "X4 = np.array([[1, 1], [1, 0], [0, 1], [0,0]])\n",
    "Y4 = np.array([[0], [1], [1], [0]])\n",
    "\n",
    "model = Sequential([Dense(units=2, activation='sigmoid', input_shape=(2,)),\n",
    "                    Dense(units=1, activation='sigmoid')])\n",
    "\n",
    "model.compile(optimizer=tf.keras.optimizers.SGD(lr=0.1), loss='mse')\n",
    "\n",
    "model.summary()"
   ]
  },
  {
   "cell_type": "code",
   "execution_count": 6,
   "metadata": {},
   "outputs": [],
   "source": [
    "history = model.fit(X4, Y4, epochs=3000, batch_size=1, verbose=0)"
   ]
  },
  {
   "cell_type": "code",
   "execution_count": 7,
   "metadata": {},
   "outputs": [
    {
     "name": "stdout",
     "output_type": "stream",
     "text": [
      "1/1 [==============================] - 0s 40ms/step\n"
     ]
    },
    {
     "data": {
      "text/plain": [
       "array([[0.11883598],\n",
       "       [0.8947551 ],\n",
       "       [0.8948758 ],\n",
       "       [0.10488643]], dtype=float32)"
      ]
     },
     "execution_count": 7,
     "metadata": {},
     "output_type": "execute_result"
    }
   ],
   "source": [
    "model.predict(X4)"
   ]
  },
  {
   "cell_type": "markdown",
   "metadata": {},
   "source": [
    "## 시각화 사용"
   ]
  },
  {
   "cell_type": "code",
   "execution_count": 8,
   "metadata": {},
   "outputs": [
    {
     "data": {
      "image/png": "[encoded data removed]",
      "text/plain": [
       "<Figure size 432x288 with 1 Axes>"
      ]
     },
     "metadata": {},
     "output_type": "display_data"
    }
   ],
   "source": [
    "import matplotlib.pyplot as plt\n",
    "plt.style.use('seaborn-white')\n",
    "\n",
    "x = range(50)\n",
    "y = tf.random.normal([50], 0, 1)\n",
    "plt.plot(x, y)\n",
    "plt.show()"
   ]
  },
  {
   "cell_type": "code",
   "execution_count": 9,
   "metadata": {},
   "outputs": [
    {
     "data": {
      "image/png": "[encoded data removed]",
      "text/plain": [
       "<Figure size 432x288 with 1 Axes>"
      ]
     },
     "metadata": {},
     "output_type": "display_data"
    }
   ],
   "source": [
    "x = range(50)\n",
    "y = tf.random.normal([50], 0, 1)\n",
    "plt.plot(x, y, 'ro')\n",
    "plt.show()"
   ]
  },
  {
   "cell_type": "code",
   "execution_count": 10,
   "metadata": {},
   "outputs": [
    {
     "data": {
      "image/png": "[encoded data removed]",
      "text/plain": [
       "<Figure size 432x288 with 1 Axes>"
      ]
     },
     "metadata": {},
     "output_type": "display_data"
    }
   ],
   "source": [
    "x = range(30)\n",
    "y = tf.random.normal([30], 0, 1)\n",
    "plt.plot(x, y, 'g-')\n",
    "plt.show()"
   ]
  },
  {
   "cell_type": "code",
   "execution_count": 11,
   "metadata": {},
   "outputs": [
    {
     "data": {
      "image/png": "[encoded data removed]",
      "text/plain": [
       "<Figure size 432x288 with 1 Axes>"
      ]
     },
     "metadata": {},
     "output_type": "display_data"
    }
   ],
   "source": [
    "x = range(30)\n",
    "y = tf.random.normal([30], 0, 1)\n",
    "plt.plot(x, y, 'b--')\n",
    "plt.show()"
   ]
  },
  {
   "cell_type": "code",
   "execution_count": 16,
   "metadata": {},
   "outputs": [
    {
     "data": {
      "image/png": "[encoded data removed]",
      "text/plain": [
       "<Figure size 432x288 with 1 Axes>"
      ]
     },
     "metadata": {},
     "output_type": "display_data"
    }
   ],
   "source": [
    "random_normal = tf.random.normal([10000], 0, 1)\n",
    "plt.hist(random_normal, bins=100)\n",
    "plt.show()"
   ]
  },
  {
   "cell_type": "markdown",
   "metadata": {},
   "source": [
    "## XOR Gate의 'LOSS' 시각화"
   ]
  },
  {
   "cell_type": "code",
   "execution_count": 15,
   "metadata": {},
   "outputs": [
    {
     "data": {
      "text/plain": [
       "[<matplotlib.lines.Line2D at 0x1bf17c41970>]"
      ]
     },
     "execution_count": 15,
     "metadata": {},
     "output_type": "execute_result"
    },
    {
     "data": {
      "image/png": "[encoded data removed]",
      "text/plain": [
       "<Figure size 432x288 with 1 Axes>"
      ]
     },
     "metadata": {},
     "output_type": "display_data"
    }
   ],
   "source": [
    "plt.plot(history.history['loss'])"
   ]
  }
 ],
 "metadata": {
  "interpreter": {
   "hash": "ad2bdc8ecc057115af97d19610ffacc2b4e99fae6737bb82f5d7fb13d2f2c186"
  },
  "kernelspec": {
   "display_name": "Python 3.8.8 ('base')",
   "language": "python",
   "name": "python3"
  },
  "language_info": {
   "codemirror_mode": {
    "name": "ipython",
    "version": 3
   },
   "file_extension": ".py",
   "mimetype": "text/x-python",
   "name": "python",
   "nbconvert_exporter": "python",
   "pygments_lexer": "ipython3",
   "version": "3.8.5"
  },
  "orig_nbformat": 4
 },
 "nbformat": 4,
 "nbformat_minor": 2
}
